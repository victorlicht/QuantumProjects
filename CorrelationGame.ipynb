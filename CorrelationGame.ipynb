{
 "cells": [
  {
   "cell_type": "code",
   "execution_count": 75,
   "metadata": {},
   "outputs": [
    {
     "name": "stdout",
     "output_type": "stream",
     "text": [
      "011\n",
      "111\n"
     ]
    },
    {
     "data": {
      "text/latex": [
       "$\\displaystyle (0.5)|011\\rangle+(0.5)|111\\rang$"
      ],
      "text/plain": [
       "<IPython.core.display.Math object>"
      ]
     },
     "metadata": {},
     "output_type": "display_data"
    },
    {
     "name": "stdout",
     "output_type": "stream",
     "text": [
      "[0, 0, 0, 0.5, 0, 0, 0, 0.5]\n"
     ]
    }
   ],
   "source": [
    "import numpy as np\n",
    "from IPython.display import display, Math\n",
    "import random\n",
    "\n",
    "class CorrelationGame():\n",
    "\n",
    "    def __init__(self):\n",
    "        self.state_vector = [0.5, 0.5]\n",
    "        self.num_bits = 1\n",
    "\n",
    "    def add_a_new_bit(self, state_value=-1):\n",
    "        if state_value == -1:\n",
    "            state_value = random.choice([0, 1])\n",
    "        \n",
    "        new_state_vector = []\n",
    "        \n",
    "        if state_value == 0:\n",
    "            for coef in self.state_vector:\n",
    "                new_state_vector.append(coef)\n",
    "                new_state_vector.append(0)\n",
    "        elif state_value == 1:\n",
    "            for coef in self.state_vector:\n",
    "                new_state_vector.append(0)\n",
    "                new_state_vector.append(coef)\n",
    "\n",
    "        self.state_vector = new_state_vector\n",
    "        self.num_bits += 1\n",
    "\n",
    "    def print_state(self):\n",
    "        state_string = \"\"\n",
    "\n",
    "        for i, coef in enumerate(self.state_vector):\n",
    "            if coef != 0:\n",
    "                binary_state = f\"{i:0{self.num_bits}b}\"\n",
    "                print(binary_state)\n",
    "                state_string += f\"({coef})|{binary_state}\\\\rangle+\"\n",
    "        display(Math(state_string[:-3]))\n",
    "\n",
    "    def print_state_vector(self):\n",
    "        print(self.state_vector)\n",
    "\n",
    "game = CorrelationGame()\n",
    "game.add_a_new_bit()\n",
    "game.add_a_new_bit(1)\n",
    "\n",
    "game.print_state()  \n",
    "game.print_state_vector() "
   ]
  }
 ],
 "metadata": {
  "kernelspec": {
   "display_name": "Python 3 (ipykernel)",
   "language": "python",
   "name": "python3"
  },
  "language_info": {
   "codemirror_mode": {
    "name": "ipython",
    "version": 3
   },
   "file_extension": ".py",
   "mimetype": "text/x-python",
   "name": "python",
   "nbconvert_exporter": "python",
   "pygments_lexer": "ipython3",
   "version": "3.11.7"
  }
 },
 "nbformat": 4,
 "nbformat_minor": 2
}
