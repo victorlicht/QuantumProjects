{
 "cells": [
  {
   "cell_type": "code",
   "execution_count": null,
   "metadata": {},
   "outputs": [],
   "source": [
    "import numpy as np\n",
    "import random\n",
    "\n",
    "class CorrelationGame():\n",
    "\n",
    "    def __init__(self):\n",
    "        self.state_vector = [0.5, 0.5]\n",
    "        self.num_bits = 1\n",
    "\n",
    "    def add_a_new_bit(self, state_value=-1):\n",
    "        if state_value == -1:\n",
    "            state_value = random.choice([0, 1])\n",
    "        \n",
    "        new_state_vector = []\n",
    "        \n",
    "        if state_value == 0:\n",
    "            for coef in self.state_vector:\n",
    "                new_state_vector.append(coef)\n",
    "                new_state_vector.append(0)\n",
    "        elif state_value == 1:\n",
    "            for coef in self.state_vector:\n",
    "                new_state_vector.append(0)\n",
    "                new_state_vector.append(coef)\n",
    "\n",
    "        self.state_vector = new_state_vector\n",
    "        self.num_bits += 1"
   ]
  }
 ],
 "metadata": {
  "kernelspec": {
   "display_name": "Python 3 (ipykernel)",
   "language": "python",
   "name": "python3"
  }
 },
 "nbformat": 4,
 "nbformat_minor": 2
}
